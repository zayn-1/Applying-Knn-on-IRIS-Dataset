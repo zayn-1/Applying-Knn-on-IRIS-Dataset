{
 "cells": [
  {
   "cell_type": "markdown",
   "metadata": {},
   "source": [
    "### Run the following cell to install the required libraries"
   ]
  },
  {
   "cell_type": "code",
   "execution_count": 1,
   "metadata": {},
   "outputs": [
    {
     "name": "stdout",
     "output_type": "stream",
     "text": [
      "Requirement already satisfied: scikit-learn in c:\\users\\zayni\\anaconda3\\envs\\ds\\lib\\site-packages (1.1.2)\n",
      "Requirement already satisfied: joblib>=1.0.0 in c:\\users\\zayni\\anaconda3\\envs\\ds\\lib\\site-packages (from scikit-learn) (1.2.0)\n",
      "Requirement already satisfied: scipy>=1.3.2 in c:\\users\\zayni\\anaconda3\\envs\\ds\\lib\\site-packages (from scikit-learn) (1.9.1)\n",
      "Requirement already satisfied: threadpoolctl>=2.0.0 in c:\\users\\zayni\\anaconda3\\envs\\ds\\lib\\site-packages (from scikit-learn) (3.1.0)\n",
      "Requirement already satisfied: numpy>=1.17.3 in c:\\users\\zayni\\anaconda3\\envs\\ds\\lib\\site-packages (from scikit-learn) (1.23.2)\n",
      "Requirement already satisfied: scipy in c:\\users\\zayni\\anaconda3\\envs\\ds\\lib\\site-packages (1.9.1)\n",
      "Requirement already satisfied: numpy<1.25.0,>=1.18.5 in c:\\users\\zayni\\anaconda3\\envs\\ds\\lib\\site-packages (from scipy) (1.23.2)\n",
      "Requirement already satisfied: matplotlib in c:\\users\\zayni\\anaconda3\\envs\\ds\\lib\\site-packages (3.6.1)\n",
      "Requirement already satisfied: numpy>=1.19 in c:\\users\\zayni\\anaconda3\\envs\\ds\\lib\\site-packages (from matplotlib) (1.23.2)\n",
      "Requirement already satisfied: cycler>=0.10 in c:\\users\\zayni\\anaconda3\\envs\\ds\\lib\\site-packages (from matplotlib) (0.11.0)\n",
      "Requirement already satisfied: fonttools>=4.22.0 in c:\\users\\zayni\\anaconda3\\envs\\ds\\lib\\site-packages (from matplotlib) (4.37.4)\n",
      "Requirement already satisfied: kiwisolver>=1.0.1 in c:\\users\\zayni\\anaconda3\\envs\\ds\\lib\\site-packages (from matplotlib) (1.4.4)\n",
      "Requirement already satisfied: contourpy>=1.0.1 in c:\\users\\zayni\\anaconda3\\envs\\ds\\lib\\site-packages (from matplotlib) (1.0.5)\n",
      "Requirement already satisfied: packaging>=20.0 in c:\\users\\zayni\\anaconda3\\envs\\ds\\lib\\site-packages (from matplotlib) (21.3)\n",
      "Requirement already satisfied: pyparsing>=2.2.1 in c:\\users\\zayni\\anaconda3\\envs\\ds\\lib\\site-packages (from matplotlib) (3.0.9)\n",
      "Requirement already satisfied: python-dateutil>=2.7 in c:\\users\\zayni\\anaconda3\\envs\\ds\\lib\\site-packages (from matplotlib) (2.8.2)\n",
      "Requirement already satisfied: pillow>=6.2.0 in c:\\users\\zayni\\anaconda3\\envs\\ds\\lib\\site-packages (from matplotlib) (9.2.0)\n",
      "Requirement already satisfied: six>=1.5 in c:\\users\\zayni\\anaconda3\\envs\\ds\\lib\\site-packages (from python-dateutil>=2.7->matplotlib) (1.16.0)\n"
     ]
    }
   ],
   "source": [
    "!pip install scikit-learn\n",
    "!pip install scipy\n",
    "!pip install matplotlib"
   ]
  },
  {
   "cell_type": "markdown",
   "metadata": {},
   "source": [
    "### In this notebook, we'll see how to use KNN to classify the IRIS Flowers.\n",
    "### Complete information on dataset is available here https://archive.ics.uci.edu/ml/datasets/iris"
   ]
  },
  {
   "cell_type": "markdown",
   "metadata": {},
   "source": [
    "### Loading and exploring the dataset"
   ]
  },
  {
   "cell_type": "code",
   "execution_count": 2,
   "metadata": {},
   "outputs": [],
   "source": [
    "from sklearn.datasets import load_iris"
   ]
  },
  {
   "cell_type": "code",
   "execution_count": 3,
   "metadata": {},
   "outputs": [
    {
     "name": "stdout",
     "output_type": "stream",
     "text": [
      "[[5.1 3.5 1.4 0.2]\n",
      " [4.9 3.  1.4 0.2]\n",
      " [4.7 3.2 1.3 0.2]\n",
      " [4.6 3.1 1.5 0.2]\n",
      " [5.  3.6 1.4 0.2]]\n",
      "<class 'numpy.ndarray'>\n"
     ]
    }
   ],
   "source": [
    "iris_dataset = load_iris()\n",
    "# print the whole array of observations\n",
    "print(iris_dataset.data[:5])\n",
    "print(type(iris_dataset.data))"
   ]
  },
  {
   "cell_type": "code",
   "execution_count": 4,
   "metadata": {},
   "outputs": [
    {
     "name": "stdout",
     "output_type": "stream",
     "text": [
      "[0 0 0 0 0 0 0 0 0 0 0 0 0 0 0 0 0 0 0 0 0 0 0 0 0 0 0 0 0 0 0 0 0 0 0 0 0\n",
      " 0 0 0 0 0 0 0 0 0 0 0 0 0 1 1 1 1 1 1 1 1 1 1 1 1 1 1 1 1 1 1 1 1 1 1 1 1\n",
      " 1 1 1 1 1 1 1 1 1 1 1 1 1 1 1 1 1 1 1 1 1 1 1 1 1 1 2 2 2 2 2 2 2 2 2 2 2\n",
      " 2 2 2 2 2 2 2 2 2 2 2 2 2 2 2 2 2 2 2 2 2 2 2 2 2 2 2 2 2 2 2 2 2 2 2 2 2\n",
      " 2 2]\n",
      "<class 'numpy.ndarray'>\n"
     ]
    }
   ],
   "source": [
    "# print the target values and names\n",
    "print(iris_dataset.target)\n",
    "print(type(iris_dataset.target))\n",
    "\n"
   ]
  },
  {
   "cell_type": "code",
   "execution_count": 5,
   "metadata": {},
   "outputs": [
    {
     "name": "stdout",
     "output_type": "stream",
     "text": [
      "['setosa' 'versicolor' 'virginica']\n"
     ]
    }
   ],
   "source": [
    "# get the names of all flowers in the iris data set\n",
    "print(iris_dataset.target_names)"
   ]
  },
  {
   "cell_type": "code",
   "execution_count": 6,
   "metadata": {},
   "outputs": [
    {
     "name": "stdout",
     "output_type": "stream",
     "text": [
      "True\n"
     ]
    }
   ],
   "source": [
    "# setosa = 0, versicolor = 1, virginica = 2\n",
    "# to test if number of observations is equal to the number of target values\n",
    "# we are using shape here to get dimensions of numpy arrays data and target\n",
    "print(iris_dataset.data.shape[0] == iris_dataset.target.shape[0])"
   ]
  },
  {
   "cell_type": "markdown",
   "metadata": {},
   "source": [
    "### Applying KNN on our IRIS Dataset"
   ]
  },
  {
   "cell_type": "code",
   "execution_count": 7,
   "metadata": {},
   "outputs": [],
   "source": [
    "# importing Knn\n",
    "from sklearn.neighbors import KNeighborsClassifier\n",
    "\n",
    "# creating an instance of Knn\n",
    "knn = KNeighborsClassifier(n_neighbors=1)"
   ]
  },
  {
   "cell_type": "code",
   "execution_count": 8,
   "metadata": {},
   "outputs": [],
   "source": [
    "# X is the data and y is the target\n",
    "X = iris_dataset.data\n",
    "y = iris_dataset.target"
   ]
  },
  {
   "cell_type": "markdown",
   "metadata": {},
   "source": [
    "### Separate our dataset into train and test groups"
   ]
  },
  {
   "cell_type": "code",
   "execution_count": 9,
   "metadata": {},
   "outputs": [],
   "source": [
    "from sklearn.model_selection import train_test_split\n",
    "# create training and testing variable\n",
    "# the values are splitted into train and test randomly\n",
    "# not like first 70% for training and last 30% for testing\n",
    "X_train, X_test, y_train, y_test = train_test_split(X, y, test_size=0.30) # test_size=0.30 means 30% data to be used for testing"
   ]
  },
  {
   "cell_type": "code",
   "execution_count": 10,
   "metadata": {},
   "outputs": [],
   "source": [
    "# fit the knn model on our training data\n",
    "knn.fit(X_train, y_train)\n",
    "# predict the response for test dataset\n",
    "predictions = knn.predict(X_test)"
   ]
  },
  {
   "cell_type": "code",
   "execution_count": 11,
   "metadata": {},
   "outputs": [
    {
     "name": "stdout",
     "output_type": "stream",
     "text": [
      "Accuracy = 0.9777777777777777\n",
      "Accuracy(%) = 97.7778\n"
     ]
    }
   ],
   "source": [
    "# calculate the accuracy of the model\n",
    "from sklearn import metrics\n",
    "accuracy = metrics.accuracy_score(y_test, predictions)\n",
    "print(\"Accuracy = {}\".format(accuracy))\n",
    "print(\"Accuracy(%) = {:.4f}\".format(accuracy*100)) # rounded off to 4 decimal places"
   ]
  },
  {
   "cell_type": "code",
   "execution_count": 12,
   "metadata": {},
   "outputs": [
    {
     "name": "stdout",
     "output_type": "stream",
     "text": [
      "[2]\n"
     ]
    }
   ],
   "source": [
    "# we know that first 50 observations are setosa(index=0), next 50 are versicolor(index=1) and last 50 are virginica(index=2)\n",
    "# so let's try some predictions\n",
    "pred = knn.predict([X[105]])\n",
    "print(pred)"
   ]
  },
  {
   "cell_type": "code",
   "execution_count": 13,
   "metadata": {},
   "outputs": [
    {
     "name": "stdout",
     "output_type": "stream",
     "text": [
      "['virginica']\n"
     ]
    }
   ],
   "source": [
    "# we can get the name of the flower by using the pred and using it as an index on iris_dataset.target_names\n",
    "print(iris_dataset.target_names[pred])"
   ]
  },
  {
   "cell_type": "code",
   "execution_count": 14,
   "metadata": {},
   "outputs": [
    {
     "name": "stdout",
     "output_type": "stream",
     "text": [
      "Accuracy = 100.0% for K = 8,\n",
      "Accuracy = 100.0% for K = 9,\n",
      "Accuracy = 100.0% for K = 10,\n",
      "Accuracy = 97.7778% for K = 1,\n",
      "Accuracy = 97.7778% for K = 2,\n",
      "Accuracy = 97.7778% for K = 3,\n",
      "Accuracy = 97.7778% for K = 4,\n",
      "Accuracy = 97.7778% for K = 5,\n",
      "Accuracy = 97.7778% for K = 6,\n",
      "Accuracy = 97.7778% for K = 11,\n",
      "Accuracy = 97.7778% for K = 12,\n",
      "Accuracy = 97.7778% for K = 13,\n",
      "Accuracy = 97.7778% for K = 17,\n",
      "Accuracy = 97.7778% for K = 18,\n",
      "Accuracy = 97.7778% for K = 19,\n",
      "Accuracy = 95.5556% for K = 7,\n",
      "Accuracy = 95.5556% for K = 14,\n",
      "Accuracy = 95.5556% for K = 15,\n",
      "Accuracy = 95.5556% for K = 16,\n",
      "Accuracy = 95.5556% for K = 23,\n",
      "Accuracy = 93.3333% for K = 20,\n",
      "Accuracy = 93.3333% for K = 21,\n",
      "Accuracy = 93.3333% for K = 22,\n",
      "Accuracy = 93.3333% for K = 24,\n",
      "Accuracy = 93.3333% for K = 25,\n"
     ]
    }
   ],
   "source": [
    "# inititally we use n_neighbours = 1 i.e k = 1\n",
    "# we don't know which K value can bring the best accuracy so we'll try different k_values to see which one gives the best accuracy\n",
    "# we'll use a for loop to try different k_values\n",
    "# we'll use a dictionary, where k is the key and accuracy is the value\n",
    "\n",
    "results = {}\n",
    "\n",
    "for k in range(1, 26):\n",
    "    knn = KNeighborsClassifier(n_neighbors=k)\n",
    "    knn.fit(X_train, y_train)\n",
    "    predictions = knn.predict(X_test)\n",
    "    accuracy = metrics.accuracy_score(y_test, predictions)\n",
    "    results[k] = round(accuracy*100, 4) # get accuracy in percentage, round off to 4 decimal places\n",
    "\n",
    "sorted_results = dict(sorted(results.items(), key=lambda item: item[1], reverse=True))\n",
    "for k, acc in sorted_results.items():\n",
    "    print(\"Accuracy = {}% for K = {},\".format(acc, k))\n",
    "    "
   ]
  },
  {
   "cell_type": "markdown",
   "metadata": {},
   "source": [
    "### Now let's Plot the K values and accuracy"
   ]
  },
  {
   "cell_type": "code",
   "execution_count": 15,
   "metadata": {},
   "outputs": [
    {
     "data": {
      "image/png": "[encoded data removed]",
      "text/plain": [
       "<Figure size 1080x504 with 1 Axes>"
      ]
     },
     "metadata": {
      "needs_background": "light"
     },
     "output_type": "display_data"
    }
   ],
   "source": [
    "import matplotlib.pyplot as plt\n",
    "%matplotlib inline\n",
    "plt.figure(figsize=(15,7))\n",
    "plt.plot(list(results.keys()), list(results.values()))\n",
    "plt.title(\"Accuracy graph for different values of K\")\n",
    "plt.xticks(list(results.keys()))\n",
    "plt.xlabel(\"K Values\")\n",
    "plt.ylabel(\"Accuracy\")\n",
    "plt.show()"
   ]
  }
 ],
 "metadata": {
  "kernelspec": {
   "display_name": "Python 3 (ipykernel)",
   "language": "python",
   "name": "python3"
  },
  "language_info": {
   "codemirror_mode": {
    "name": "ipython",
    "version": 3
   },
   "file_extension": ".py",
   "mimetype": "text/x-python",
   "name": "python",
   "nbconvert_exporter": "python",
   "pygments_lexer": "ipython3",
   "version": "3.10.4"
  },
  "vscode": {
   "interpreter": {
    "hash": "f7adb27253e99a9ffab20edfc87a099546fd19947327f10ed90d23ee8f1aea8c"
   }
  }
 },
 "nbformat": 4,
 "nbformat_minor": 2
}
